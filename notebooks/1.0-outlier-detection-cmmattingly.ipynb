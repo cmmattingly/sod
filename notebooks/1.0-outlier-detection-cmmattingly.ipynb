{
 "cells": [
  {
   "cell_type": "code",
   "execution_count": 6,
   "id": "0f8a5af1",
   "metadata": {},
   "outputs": [],
   "source": [
    "import os\n",
    "import pandas as pd\n",
    "import matplotlib.pyplot as plt\n",
    "import pickle as pkl\n",
    "\n",
    "os.chdir(os.environ['PROJECT_DIRECTORY'])"
   ]
  },
  {
   "cell_type": "code",
   "execution_count": 4,
   "id": "4fab7811",
   "metadata": {},
   "outputs": [],
   "source": [
    "dataset = pd.read_csv(\"data/docs.csv\")"
   ]
  }
 ],
 "metadata": {
  "kernelspec": {
   "display_name": "Python 3 (ipykernel)",
   "language": "python",
   "name": "python3"
  },
  "language_info": {
   "codemirror_mode": {
    "name": "ipython",
    "version": 3
   },
   "file_extension": ".py",
   "mimetype": "text/x-python",
   "name": "python",
   "nbconvert_exporter": "python",
   "pygments_lexer": "ipython3",
   "version": "3.9.12"
  }
 },
 "nbformat": 4,
 "nbformat_minor": 5
}
