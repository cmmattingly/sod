{
 "cells": [
  {
   "cell_type": "code",
   "execution_count": 2,
   "id": "bda71fa7",
   "metadata": {},
   "outputs": [],
   "source": [
    "import os\n",
    "import pandas as pd\n",
    "import matplotlib.pyplot as plt"
   ]
  },
  {
   "cell_type": "code",
   "execution_count": 3,
   "id": "33dbd5ec",
   "metadata": {},
   "outputs": [
    {
     "data": {
      "text/plain": [
       "environ{'__CFBundleIdentifier': 'com.apple.Terminal',\n",
       "        'TMPDIR': '/var/folders/c5/4x78757s4jd_zl_g32jxzspr0000gp/T/',\n",
       "        'XPC_FLAGS': '0x0',\n",
       "        'LaunchInstanceID': '0E51FD70-34A3-49E8-B17B-0B685599F649',\n",
       "        'TERM': 'xterm-color',\n",
       "        'SSH_AUTH_SOCK': '/private/tmp/com.apple.launchd.7lVmdYbyRr/Listeners',\n",
       "        'SECURITYSESSIONID': '186aa',\n",
       "        'XPC_SERVICE_NAME': '0',\n",
       "        'TERM_PROGRAM': 'Apple_Terminal',\n",
       "        'TERM_PROGRAM_VERSION': '440',\n",
       "        'TERM_SESSION_ID': '4ACFC6A5-E42C-40BC-90F4-693E0E96D925',\n",
       "        'SHELL': '/bin/zsh',\n",
       "        'HOME': '/Users/chasemattingly',\n",
       "        'LOGNAME': 'chasemattingly',\n",
       "        'USER': 'chasemattingly',\n",
       "        'PATH': '/Users/chasemattingly/opt/anaconda3/bin:/Users/chasemattingly/opt/anaconda3/condabin:/Users/chasemattingly/opt/anaconda3/bin:/Users/chasemattingly/Downloads/apache-ant-1.10.11/bin:/usr/local/bin/python3.9/bin:/opt/local/bin:/opt/local/sbin:/usr/local/bin:/usr/local/sbin:/usr/bin:/bin:/usr/sbin:/sbin',\n",
       "        'SHLVL': '1',\n",
       "        'PWD': '/Users/chasemattingly/outlier_detection/notebooks',\n",
       "        'OLDPWD': '/Users/chasemattingly/outlier_detection',\n",
       "        'HOMEBREW_NO_AUTO_UPDATE': '1',\n",
       "        'CONDA_EXE': '/Users/chasemattingly/opt/anaconda3/bin/conda',\n",
       "        '_CE_M': '',\n",
       "        '_CE_CONDA': '',\n",
       "        'CONDA_PYTHON_EXE': '/Users/chasemattingly/opt/anaconda3/bin/python',\n",
       "        'CONDA_SHLVL': '1',\n",
       "        'CONDA_PREFIX': '/Users/chasemattingly/opt/anaconda3',\n",
       "        'CONDA_DEFAULT_ENV': 'base',\n",
       "        'CONDA_PROMPT_MODIFIER': '(base) ',\n",
       "        'LANG': 'en_US.UTF-8',\n",
       "        '_': '/Users/chasemattingly/opt/anaconda3/bin/jupyter',\n",
       "        '__CF_USER_TEXT_ENCODING': '0x1F6:0x0:0x0',\n",
       "        'PYDEVD_USE_FRAME_EVAL': 'NO',\n",
       "        'JPY_PARENT_PID': '9267',\n",
       "        'CLICOLOR': '1',\n",
       "        'PAGER': 'cat',\n",
       "        'GIT_PAGER': 'cat',\n",
       "        'MPLBACKEND': 'module://matplotlib_inline.backend_inline'}"
      ]
     },
     "execution_count": 3,
     "metadata": {},
     "output_type": "execute_result"
    }
   ],
   "source": [
    "os.environ"
   ]
  }
 ],
 "metadata": {
  "kernelspec": {
   "display_name": "Python 3 (ipykernel)",
   "language": "python",
   "name": "python3"
  },
  "language_info": {
   "codemirror_mode": {
    "name": "ipython",
    "version": 3
   },
   "file_extension": ".py",
   "mimetype": "text/x-python",
   "name": "python",
   "nbconvert_exporter": "python",
   "pygments_lexer": "ipython3",
   "version": "3.9.12"
  }
 },
 "nbformat": 4,
 "nbformat_minor": 5
}
